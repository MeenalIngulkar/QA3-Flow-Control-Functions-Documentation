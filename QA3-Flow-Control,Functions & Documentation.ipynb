{
 "cells": [
  {
   "cell_type": "code",
   "execution_count": 7,
   "metadata": {},
   "outputs": [
    {
     "name": "stdout",
     "output_type": "stream",
     "text": [
      "Enter Next Rating (1-5),-1 for done1\n",
      "Enter Next Rating (1-5),-1 for done2\n",
      "Enter Next Rating (1-5),-1 for done3\n",
      "Enter Next Rating (1-5),-1 for done4\n",
      "Enter Next Rating (1-5),-1 for done5\n",
      "Enter Next Rating (1-5),-1 for done-1\n",
      "The average star rating for the new coffee is : 3.00\n"
     ]
    }
   ],
   "source": [
    "sum=count=done=0\n",
    "average =0.0\n",
    "\n",
    "while(done != -1):\n",
    "    rating=float(input('Enter Next Rating (1-5),-1 for done'))\n",
    "    if rating==-1:\n",
    "        break;\n",
    "    sum+=rating\n",
    "    count+=1\n",
    "average=float(sum/count)\n",
    "print(\"The average star rating for the new coffee is : {:.2f}\".format(average))\n",
    "#print(\"The average star rating for the new coffee is : {:.2d}\".format(average))\n",
    "#print(\"The average star rating for the new coffee is : {:2f}\".format(average))\n",
    "#print(\"The average star rating for the new coffee is : {:2.2d}\".format(average))"
   ]
  },
  {
   "cell_type": "code",
   "execution_count": 8,
   "metadata": {},
   "outputs": [
    {
     "name": "stdout",
     "output_type": "stream",
     "text": [
      "V:123.46\n"
     ]
    }
   ],
   "source": [
    "print('V:{:.2f}'.format(123.45678)) # will print V: 123.46"
   ]
  },
  {
   "cell_type": "code",
   "execution_count": 9,
   "metadata": {},
   "outputs": [
    {
     "name": "stdout",
     "output_type": "stream",
     "text": [
      "V:123.40\n"
     ]
    }
   ],
   "source": [
    "print('V:{:.2f}'.format(123.4)) # will print V: 123.40"
   ]
  },
  {
   "cell_type": "code",
   "execution_count": 10,
   "metadata": {},
   "outputs": [
    {
     "name": "stdout",
     "output_type": "stream",
     "text": [
      "V:    1.46\n"
     ]
    }
   ],
   "source": [
    "print('V:{:8.2f}'.format(1.45678)) # will print V: 1.46"
   ]
  },
  {
   "cell_type": "code",
   "execution_count": 14,
   "metadata": {},
   "outputs": [
    {
     "name": "stdout",
     "output_type": "stream",
     "text": [
      "V:00001.46\n"
     ]
    }
   ],
   "source": [
    "print('V:{:08.2f}'.format(1.45678)) # will print V: 00001.46"
   ]
  },
  {
   "cell_type": "code",
   "execution_count": 22,
   "metadata": {},
   "outputs": [
    {
     "name": "stdout",
     "output_type": "stream",
     "text": [
      "Enter Your Name:Meenal\n",
      "Enter your scores:(-1 to end)1\n",
      "Enter your scores:(-1 to end)2\n",
      "Enter your scores:(-1 to end)3\n",
      "Enter your scores:(-1 to end)4\n",
      "Enter your scores:(-1 to end)-1\n",
      "Meenal              , Your avg Score is : 02.5\n"
     ]
    }
   ],
   "source": [
    "name=input('Enter Your Name:')\n",
    "score=0\n",
    "count=0\n",
    "sum=0\n",
    "while(score!=-1):\n",
    "    score=int(input('Enter your scores:(-1 to end)'))\n",
    "    if score==-1:\n",
    "        break\n",
    "    sum+=score\n",
    "    count+=1\n",
    "average=sum/count\n",
    "print('%-20s, Your avg Score is : %04.1f'%(name,average))"
   ]
  },
  {
   "cell_type": "code",
   "execution_count": 23,
   "metadata": {},
   "outputs": [
    {
     "name": "stdout",
     "output_type": "stream",
     "text": [
      "0\n",
      "1\n",
      "2\n",
      "3\n",
      "4\n",
      "5\n",
      "6\n"
     ]
    }
   ],
   "source": [
    "numbers=[0,1,2,3,4,5,6,7,8,9]\n",
    "index=0\n",
    "while(index<10):\n",
    "    print(numbers[index])\n",
    "    if numbers[index]==6:\n",
    "        break\n",
    "    else:\n",
    "        index+=1\n"
   ]
  },
  {
   "cell_type": "code",
   "execution_count": 26,
   "metadata": {},
   "outputs": [
    {
     "name": "stdout",
     "output_type": "stream",
     "text": [
      "Enter Your Employee Number(dd-ddd-dddd)11-222-3333\n",
      "True\n"
     ]
    }
   ],
   "source": [
    "emp_number=input(\"Enter Your Employee Number(dd-ddd-dddd)\")\n",
    "parts=emp_number.split('-')\n",
    "valid=False\n",
    "if len(parts)==3:\n",
    "    if(len(parts[0])==2 and len(parts[1])==3 and len(parts[2])==4):\n",
    "        if(parts[0].isdigit() and parts[1].isdigit and parts[2].isdigit()):\n",
    "            valid=True\n",
    "print(valid)            "
   ]
  },
  {
   "cell_type": "code",
   "execution_count": 28,
   "metadata": {},
   "outputs": [],
   "source": [
    "def root(a,b):\n",
    "    if a>=0:\n",
    "        answer=a**(1/b)\n",
    "    elif a%2==0:\n",
    "        answer=\"Immaginary roots\"\n",
    "    else: \n",
    "        answer=(-a)**(1/b)\n",
    "    return answer\n",
    "    "
   ]
  },
  {
   "cell_type": "code",
   "execution_count": 29,
   "metadata": {},
   "outputs": [
    {
     "name": "stdout",
     "output_type": "stream",
     "text": [
      "1.2599210498948732\n"
     ]
    }
   ],
   "source": [
    "print(root(2,3))"
   ]
  },
  {
   "cell_type": "code",
   "execution_count": 30,
   "metadata": {},
   "outputs": [
    {
     "name": "stdout",
     "output_type": "stream",
     "text": [
      "Immaginary roots\n"
     ]
    }
   ],
   "source": [
    "print(root(-2,3))"
   ]
  },
  {
   "cell_type": "code",
   "execution_count": 31,
   "metadata": {},
   "outputs": [
    {
     "name": "stdout",
     "output_type": "stream",
     "text": [
      "1.4422495703074083\n"
     ]
    }
   ],
   "source": [
    "print(root(-3,3))"
   ]
  },
  {
   "cell_type": "code",
   "execution_count": 34,
   "metadata": {},
   "outputs": [
    {
     "name": "stdout",
     "output_type": "stream",
     "text": [
      "Enter day of a week:Thrusday\n",
      "5\n"
     ]
    }
   ],
   "source": [
    "d=input(\"Enter day of a week:\")\n",
    "discount_per=3\n",
    "if d=='Monday':\n",
    "    discount_per+=5\n",
    "elif d=='Tuesday':\n",
    "    discount_per+=7\n",
    "elif d=='Saturday':\n",
    "    discount_per+=10\n",
    "elif d=='Sunday':\n",
    "    discount_per+=20\n",
    "else:\n",
    "    discount_per+=2\n",
    "    \n",
    "print(discount_per)"
   ]
  },
  {
   "cell_type": "code",
   "execution_count": 2,
   "metadata": {},
   "outputs": [
    {
     "name": "stdout",
     "output_type": "stream",
     "text": [
      "Enter Loan Amount: 50001\n",
      "12\n"
     ]
    }
   ],
   "source": [
    "amount=float(input('Enter Loan Amount: '))\n",
    "interest_rate=0\n",
    "\n",
    "if amount>0 and amount<=50000:\n",
    "    interest_rate=10\n",
    "elif amount > 50000 and amount<100000:\n",
    "    interest_rate=12\n",
    "elif amount>=100000 and amount<150000:\n",
    "    interest_rate=16\n",
    "else:\n",
    "    interest_rate=22\n",
    "    \n",
    "print(interest_rate)"
   ]
  },
  {
   "cell_type": "code",
   "execution_count": 8,
   "metadata": {},
   "outputs": [
    {
     "name": "stdout",
     "output_type": "stream",
     "text": [
      "Enter number of days for leave: 4\n",
      "Enter the cause: personal\n",
      "Needs Director Approval\n"
     ]
    }
   ],
   "source": [
    "days=int(input(\"Enter number of days for leave: \"))\n",
    "cause=input(\"Enter the cause: \")\n",
    "if days==1:\n",
    "    print('Leave will be approved immidiatly')\n",
    "    \n",
    "elif days>1 and days<=3:\n",
    "    if cause=='Sick':\n",
    "        print('Leave will be approved immidiately')\n",
    "    else:\n",
    "        print('Needs Lead Approval')\n",
    "elif days>3 and days<5:\n",
    "    if cause=='Sick':\n",
    "        print('Needs Manager Approval')\n",
    "    else:\n",
    "        print('Needs Director Approval')\n",
    "elif days>=5 and days<=10:\n",
    "    print('Needs Director Approval')"
   ]
  },
  {
   "cell_type": "code",
   "execution_count": 10,
   "metadata": {},
   "outputs": [
    {
     "name": "stdout",
     "output_type": "stream",
     "text": [
      "C\n"
     ]
    }
   ],
   "source": [
    "marks=[30,40,50,45,50,100]\n",
    "average=sum(marks)//len(marks)\n",
    "grades={1:'A',2:'B',3:'C',4:'D'}\n",
    "if average>=90 and average<=100:\n",
    "    key=1\n",
    "elif average>=80 and average<90:\n",
    "    key=2\n",
    "elif average>=50 and average<80:\n",
    "    key=3\n",
    "else:\n",
    "    key=4\n",
    "\n",
    "print(grades[key])"
   ]
  },
  {
   "cell_type": "code",
   "execution_count": 13,
   "metadata": {},
   "outputs": [
    {
     "name": "stdout",
     "output_type": "stream",
     "text": [
      "9\n"
     ]
    }
   ],
   "source": [
    "a=12\n",
    "b=4\n",
    "s='He shall not be happy if he does not work'\n",
    "result=s.find('not') if s else None\n",
    "print(result)"
   ]
  },
  {
   "cell_type": "code",
   "execution_count": 14,
   "metadata": {},
   "outputs": [
    {
     "name": "stdout",
     "output_type": "stream",
     "text": [
      "3.0\n"
     ]
    }
   ],
   "source": [
    "a=12\n",
    "b=4\n",
    "s='He shall not be happy if he does not work'\n",
    "result=3 if None else a/b\n",
    "print(result)"
   ]
  },
  {
   "cell_type": "code",
   "execution_count": 15,
   "metadata": {},
   "outputs": [
    {
     "name": "stdout",
     "output_type": "stream",
     "text": [
      "33\n"
     ]
    }
   ],
   "source": [
    "a=12\n",
    "b=4\n",
    "s='He shall not be happy if he does not work'\n",
    "result=s.rfind('not') if s else None\n",
    "print(result)"
   ]
  },
  {
   "cell_type": "code",
   "execution_count": 16,
   "metadata": {},
   "outputs": [
    {
     "name": "stdout",
     "output_type": "stream",
     "text": [
      "5\n"
     ]
    }
   ],
   "source": [
    "a=12\n",
    "b=4\n",
    "s='He shall not be happy if he does not work'\n",
    "result=5 if len(s)>4 else 6\n",
    "print(result)"
   ]
  },
  {
   "cell_type": "code",
   "execution_count": 18,
   "metadata": {},
   "outputs": [
    {
     "name": "stdout",
     "output_type": "stream",
     "text": [
      "350\n"
     ]
    }
   ],
   "source": [
    "collected_amount=3000\n",
    "commission=0\n",
    "if collected_amount<=2000:\n",
    "    commission=50\n",
    "elif collected_amount>2500 and collected_amount<3000:\n",
    "    commission=100\n",
    "elif collected_amount>2500:\n",
    "    commission=150\n",
    "    if collected_amount>=3000:\n",
    "        commission+=200\n",
    "        \n",
    "print(commission)"
   ]
  },
  {
   "cell_type": "code",
   "execution_count": 20,
   "metadata": {},
   "outputs": [
    {
     "name": "stdout",
     "output_type": "stream",
     "text": [
      "75\n"
     ]
    }
   ],
   "source": [
    "order_value=1500\n",
    "state='ap'\n",
    "delivery_charge=0\n",
    "if state in ['up','mp','ts']:\n",
    "    if order_value<=1000:\n",
    "        delivery_charge=50\n",
    "    elif order_value>1000 and order_value<2000:\n",
    "        delivery_charge=100\n",
    "    else:\n",
    "        delivery_charge=150\n",
    "else:\n",
    "    delivery_charge=25\n",
    "if state in['lp','kp','ap']:\n",
    "    if order_value>1000:\n",
    "        delivery_charge+=20\n",
    "    if order_value<2000 and state in ['kp','ap']:\n",
    "        delivery_charge+=30\n",
    "    else:\n",
    "        delivery_charge+=15\n",
    "\n",
    "print(delivery_charge)"
   ]
  },
  {
   "cell_type": "code",
   "execution_count": 22,
   "metadata": {},
   "outputs": [
    {
     "name": "stdout",
     "output_type": "stream",
     "text": [
      "2\n"
     ]
    }
   ],
   "source": [
    "l=[10,20,[30,40],[50,60]]\n",
    "count=0\n",
    "for i in range(len(l)):\n",
    "    if(type(l[i])==list):\n",
    "       count=count+1\n",
    "       \n",
    "print(count)\n"
   ]
  },
  {
   "cell_type": "code",
   "execution_count": 24,
   "metadata": {},
   "outputs": [
    {
     "name": "stdout",
     "output_type": "stream",
     "text": [
      "19\n"
     ]
    }
   ],
   "source": [
    "l=[10,(20,),{30},{},{},[40,50]]\n",
    "count=0\n",
    "for i in range(len(l)):\n",
    "    if type(l[i])==list:\n",
    "        count+=1\n",
    "    elif type(l[i])==tuple:\n",
    "        count+=2\n",
    "    elif type(l[i])==set:\n",
    "        count+=3\n",
    "    elif  type(l[i])==dict:\n",
    "        count+=4\n",
    "    else:\n",
    "        count+=5\n",
    "        \n",
    "print(count)\n",
    "        "
   ]
  },
  {
   "cell_type": "code",
   "execution_count": 26,
   "metadata": {},
   "outputs": [
    {
     "name": "stdout",
     "output_type": "stream",
     "text": [
      "13\n"
     ]
    }
   ],
   "source": [
    "t=(2,4,6,8,10,12)\n",
    "d={1:'A',2:'B',3:'C',4:'D',5:'E',6:'F'}\n",
    "result=1\n",
    "for t1 in t:\n",
    "    if t1 in d:\n",
    "        result+=t1\n",
    "print(result)"
   ]
  },
  {
   "cell_type": "code",
   "execution_count": 28,
   "metadata": {},
   "outputs": [
    {
     "name": "stdout",
     "output_type": "stream",
     "text": [
      "31\n"
     ]
    }
   ],
   "source": [
    "t=(2,4,6,8,10,12)\n",
    "d={1:'A',2:'B',3:'C',4:'D',5:'E',6:'F'}\n",
    "result=1\n",
    "for t1 in t:\n",
    "    if t1 in d:\n",
    "        continue\n",
    "    else:\n",
    "        result+=t1\n",
    "print(result)"
   ]
  },
  {
   "cell_type": "code",
   "execution_count": 31,
   "metadata": {},
   "outputs": [
    {
     "name": "stdout",
     "output_type": "stream",
     "text": [
      "1\n"
     ]
    }
   ],
   "source": [
    "values=[[3,4,5,1],[33,6,1,2]]\n",
    "v=values[0][0]\n",
    "for lst in values:\n",
    "    for element in lst:\n",
    "        if v>element:\n",
    "            v=element\n",
    "print(v)"
   ]
  },
  {
   "cell_type": "code",
   "execution_count": 32,
   "metadata": {},
   "outputs": [
    {
     "name": "stdout",
     "output_type": "stream",
     "text": [
      "['CHI', 'VIN', 'PIN']\n"
     ]
    }
   ],
   "source": [
    "def get_names():\n",
    "    names=['Sunny','Bunny','Chinny','Vinny','Pinny',]\n",
    "    return names[2:]\n",
    "\n",
    "def update_names(elements):\n",
    "    new_names=[]\n",
    "    for name in elements:\n",
    "        new_names.append(name[:3].upper())\n",
    "    return new_names\n",
    "\n",
    "print(update_names(get_names()))"
   ]
  },
  {
   "cell_type": "code",
   "execution_count": 49,
   "metadata": {},
   "outputs": [
    {
     "name": "stdout",
     "output_type": "stream",
     "text": [
      "['chicken', 'mutton', 'fish']\n"
     ]
    }
   ],
   "source": [
    "def my_list(a):\n",
    "    lst.append(a)\n",
    "    return lst\n",
    "\n",
    "lst=[]\n",
    "my_list('chicken')\n",
    "my_list('mutton')\n",
    "print(my_list('fish'))"
   ]
  },
  {
   "cell_type": "code",
   "execution_count": 55,
   "metadata": {},
   "outputs": [
    {
     "data": {
      "text/plain": [
       "10"
      ]
     },
     "execution_count": 55,
     "metadata": {},
     "output_type": "execute_result"
    }
   ],
   "source": [
    "def f1(x=0,y=0):\n",
    "    return x+y\n",
    "f1()\n",
    "f1(10,20)\n",
    "f1('10','20')\n",
    "f1(10)"
   ]
  },
  {
   "cell_type": "code",
   "execution_count": 56,
   "metadata": {},
   "outputs": [
    {
     "data": {
      "text/plain": [
       "0"
      ]
     },
     "execution_count": 56,
     "metadata": {},
     "output_type": "execute_result"
    }
   ],
   "source": [
    "def f1(x=0,y=0):\n",
    "    return x*y\n",
    "f1()"
   ]
  },
  {
   "cell_type": "code",
   "execution_count": 57,
   "metadata": {},
   "outputs": [
    {
     "ename": "TypeError",
     "evalue": "can't multiply sequence by non-int of type 'str'",
     "output_type": "error",
     "traceback": [
      "\u001b[1;31m---------------------------------------------------------------------------\u001b[0m",
      "\u001b[1;31mTypeError\u001b[0m                                 Traceback (most recent call last)",
      "\u001b[1;32m<ipython-input-57-c66fb03576f7>\u001b[0m in \u001b[0;36m<module>\u001b[1;34m\u001b[0m\n\u001b[1;32m----> 1\u001b[1;33m \u001b[0mf1\u001b[0m\u001b[1;33m(\u001b[0m\u001b[1;34m'10'\u001b[0m\u001b[1;33m,\u001b[0m\u001b[1;34m'20'\u001b[0m\u001b[1;33m)\u001b[0m\u001b[1;33m\u001b[0m\u001b[1;33m\u001b[0m\u001b[0m\n\u001b[0m",
      "\u001b[1;32m<ipython-input-56-ce74eab67abc>\u001b[0m in \u001b[0;36mf1\u001b[1;34m(x, y)\u001b[0m\n\u001b[0;32m      1\u001b[0m \u001b[1;32mdef\u001b[0m \u001b[0mf1\u001b[0m\u001b[1;33m(\u001b[0m\u001b[0mx\u001b[0m\u001b[1;33m=\u001b[0m\u001b[1;36m0\u001b[0m\u001b[1;33m,\u001b[0m\u001b[0my\u001b[0m\u001b[1;33m=\u001b[0m\u001b[1;36m0\u001b[0m\u001b[1;33m)\u001b[0m\u001b[1;33m:\u001b[0m\u001b[1;33m\u001b[0m\u001b[1;33m\u001b[0m\u001b[0m\n\u001b[1;32m----> 2\u001b[1;33m     \u001b[1;32mreturn\u001b[0m \u001b[0mx\u001b[0m\u001b[1;33m*\u001b[0m\u001b[0my\u001b[0m\u001b[1;33m\u001b[0m\u001b[1;33m\u001b[0m\u001b[0m\n\u001b[0m\u001b[0;32m      3\u001b[0m \u001b[0mf1\u001b[0m\u001b[1;33m(\u001b[0m\u001b[1;33m)\u001b[0m\u001b[1;33m\u001b[0m\u001b[1;33m\u001b[0m\u001b[0m\n",
      "\u001b[1;31mTypeError\u001b[0m: can't multiply sequence by non-int of type 'str'"
     ]
    }
   ],
   "source": [
    "f1('10','20')"
   ]
  },
  {
   "cell_type": "code",
   "execution_count": 58,
   "metadata": {},
   "outputs": [
    {
     "data": {
      "text/plain": [
       "0"
      ]
     },
     "execution_count": 58,
     "metadata": {},
     "output_type": "execute_result"
    }
   ],
   "source": [
    "f1(10)"
   ]
  },
  {
   "cell_type": "code",
   "execution_count": 59,
   "metadata": {},
   "outputs": [
    {
     "data": {
      "text/plain": [
       "''"
      ]
     },
     "execution_count": 59,
     "metadata": {},
     "output_type": "execute_result"
    }
   ],
   "source": [
    "f1('10')"
   ]
  },
  {
   "cell_type": "code",
   "execution_count": 62,
   "metadata": {},
   "outputs": [
    {
     "name": "stdout",
     "output_type": "stream",
     "text": [
      "The heigest Number:100 and Least Number: 10\n"
     ]
    }
   ],
   "source": [
    "numbers=[100,20,10,70,50,60,40,30,90,80]\n",
    "\n",
    "def find_numbers():\n",
    "    numbers.sort()\n",
    "#print(numbers)\n",
    "    high=numbers[-1]\n",
    "    low=numbers[0]\n",
    "    return(high,low)\n",
    "\n",
    "high,low=find_numbers()\n",
    "print(\"The heigest Number:{} and Least Number: {}\".format(high,low))"
   ]
  },
  {
   "cell_type": "code",
   "execution_count": 69,
   "metadata": {},
   "outputs": [
    {
     "name": "stdout",
     "output_type": "stream",
     "text": [
      "10 100\n",
      "10 100\n",
      "10 100\n"
     ]
    }
   ],
   "source": [
    "umbers=[100,20,10,70,50,60,40,30,90,80]\n",
    "\n",
    "def find_numbers():\n",
    "    numbers.sort()\n",
    "    return(numbers[0],numbers[-1])\n",
    "\n",
    "low=find_numbers()\n",
    "high=find_numbers()\n",
    "print(high[0],high[-1])\n",
    "print(low[0],low[-1])\n",
    "print(high[0],low[-1])\n"
   ]
  },
  {
   "cell_type": "code",
   "execution_count": 72,
   "metadata": {},
   "outputs": [
    {
     "data": {
      "text/plain": [
       "36"
      ]
     },
     "execution_count": 72,
     "metadata": {},
     "output_type": "execute_result"
    }
   ],
   "source": [
    "def calculate(amount=6,factor=3):\n",
    "    if amount>6:\n",
    "        return amount*factor\n",
    "    else:\n",
    "        return amount *factor*2\n",
    "calculate()\n"
   ]
  },
  {
   "cell_type": "code",
   "execution_count": 73,
   "metadata": {},
   "outputs": [
    {
     "data": {
      "text/plain": [
       "30"
      ]
     },
     "execution_count": 73,
     "metadata": {},
     "output_type": "execute_result"
    }
   ],
   "source": [
    "calculate(10)"
   ]
  },
  {
   "cell_type": "code",
   "execution_count": 74,
   "metadata": {},
   "outputs": [
    {
     "data": {
      "text/plain": [
       "20"
      ]
     },
     "execution_count": 74,
     "metadata": {},
     "output_type": "execute_result"
    }
   ],
   "source": [
    "calculate(5,2)"
   ]
  },
  {
   "cell_type": "code",
   "execution_count": 75,
   "metadata": {},
   "outputs": [
    {
     "data": {
      "text/plain": [
       "6"
      ]
     },
     "execution_count": 75,
     "metadata": {},
     "output_type": "execute_result"
    }
   ],
   "source": [
    "calculate(1)"
   ]
  },
  {
   "cell_type": "code",
   "execution_count": 76,
   "metadata": {},
   "outputs": [
    {
     "name": "stdout",
     "output_type": "stream",
     "text": [
      "0,1,1,2,3,5,8,"
     ]
    }
   ],
   "source": [
    "def fib_seq(n):\n",
    "    if n==0:\n",
    "        return 0\n",
    "    elif n==1:\n",
    "        return 1\n",
    "    else:\n",
    "        return fib_seq(n-1)+fib_seq(n-2)\n",
    "for i in range(7):\n",
    "    print(fib_seq(i),end=',')\n",
    "    "
   ]
  },
  {
   "cell_type": "code",
   "execution_count": 77,
   "metadata": {},
   "outputs": [
    {
     "name": "stdout",
     "output_type": "stream",
     "text": [
      "How many miles did you bike this week?200\n",
      "Enter your nameMeenal\n",
      "Meenal ,You burned about 10000  Calories\n"
     ]
    }
   ],
   "source": [
    "def get_name():\n",
    "    name=input('Enter your name')\n",
    "    return name\n",
    "def calc_calories(miles,calories_per_mile):\n",
    "    calories=miles*calories_per_mile\n",
    "    return calories\n",
    "\n",
    "distance=int(input('How many miles did you bike this week?'))\n",
    "burn_rate=50\n",
    "biker=get_name()\n",
    "calories_burned=calc_calories(distance,burn_rate)\n",
    "print(biker,\",You burned about\",calories_burned,\" Calories\")"
   ]
  },
  {
   "cell_type": "code",
   "execution_count": 84,
   "metadata": {},
   "outputs": [
    {
     "data": {
      "text/plain": [
       "'T'"
      ]
     },
     "execution_count": 84,
     "metadata": {},
     "output_type": "execute_result"
    }
   ],
   "source": [
    "def get_rating(age):\n",
    "    if age>=18:\n",
    "        return'A'\n",
    "    elif age>=13:\n",
    "        return 'T'\n",
    "    else :\n",
    "        return 'c'\n",
    "get_rating(15)    "
   ]
  },
  {
   "cell_type": "code",
   "execution_count": 85,
   "metadata": {},
   "outputs": [
    {
     "name": "stdout",
     "output_type": "stream",
     "text": [
      "Enter some alphabet symbol:a\n",
      "4\n"
     ]
    }
   ],
   "source": [
    "def count_letter(letter,word_list):\n",
    "    count=0\n",
    "    for word in word_list:\n",
    "        if letter in word:\n",
    "            count+=1\n",
    "    return count\n",
    "\n",
    "word_list=['apple','pears','orange','mango']\n",
    "letter=input('Enter some alphabet symbol:')\n",
    "letter_count=count_letter(letter,word_list)\n",
    "print(letter_count)"
   ]
  },
  {
   "cell_type": "code",
   "execution_count": 90,
   "metadata": {},
   "outputs": [
    {
     "name": "stdout",
     "output_type": "stream",
     "text": [
      "olleH\n"
     ]
    }
   ],
   "source": [
    "startmsg='Hello'\n",
    "endmsg=''\n",
    "for i in range(0,len(startmsg)):\n",
    "\n",
    "    endmsg=startmsg[i]+endmsg\n",
    "print(endmsg)"
   ]
  },
  {
   "cell_type": "code",
   "execution_count": 91,
   "metadata": {},
   "outputs": [
    {
     "name": "stdout",
     "output_type": "stream",
     "text": [
      "[13, 40, 17, 10]\n"
     ]
    }
   ],
   "source": [
    "x=[13,4,17,10]\n",
    "w=x[1:]\n",
    "u=x[1:]\n",
    "y=x\n",
    "u[0]=50\n",
    "y[1]=40\n",
    "print(x)\n"
   ]
  },
  {
   "cell_type": "code",
   "execution_count": 1,
   "metadata": {},
   "outputs": [
    {
     "name": "stdout",
     "output_type": "stream",
     "text": [
      "2\n",
      "3\n",
      "5\n",
      "7\n",
      "11\n",
      "13\n",
      "17\n",
      "19\n",
      "23\n",
      "29\n",
      "31\n",
      "37\n",
      "41\n",
      "43\n",
      "47\n",
      "53\n",
      "59\n",
      "61\n",
      "67\n",
      "71\n",
      "73\n",
      "79\n",
      "83\n",
      "89\n",
      "97\n",
      "101\n",
      "103\n",
      "107\n",
      "109\n",
      "113\n",
      "127\n",
      "131\n",
      "137\n",
      "139\n",
      "149\n",
      "151\n",
      "157\n",
      "163\n",
      "167\n",
      "173\n",
      "179\n",
      "181\n",
      "191\n",
      "193\n",
      "197\n",
      "199\n"
     ]
    }
   ],
   "source": [
    "p=2\n",
    "while p<=200:\n",
    "    is_prime=True\n",
    "    for i in range(2,p):\n",
    "        if p% i==0:\n",
    "            is_prime=False\n",
    "    if is_prime==True:\n",
    "        print(p)\n",
    "    p+=1\n",
    "    "
   ]
  },
  {
   "cell_type": "code",
   "execution_count": 7,
   "metadata": {},
   "outputs": [
    {
     "name": "stdout",
     "output_type": "stream",
     "text": [
      "Enter the Room number2\n",
      "The room name is:Right Conference Room\n"
     ]
    }
   ],
   "source": [
    "rooms={1:'Left Conference Room', 2:'Right Conference Room'}\n",
    "room=eval(input('Enter the Room number'))\n",
    "if not room in rooms:\n",
    "     print(\"Room doesn't exist\")\n",
    "else:\n",
    "     print(\"The room name is:\" + rooms[room])"
   ]
  },
  {
   "cell_type": "code",
   "execution_count": 16,
   "metadata": {},
   "outputs": [
    {
     "name": "stdout",
     "output_type": "stream",
     "text": [
      "Enter the Room number2\n",
      "Room doesn't exist\n"
     ]
    }
   ],
   "source": [
    "rooms={1:'Left Conference Room', 2:'Right Conference Room'}\n",
    "room=input('Enter the Room number')\n",
    "if room not in rooms:\n",
    "     print(\"Room doesn't exist\")\n",
    "else:\n",
    "    print(\"The room name is:\" + rooms[room])"
   ]
  },
  {
   "cell_type": "code",
   "execution_count": 20,
   "metadata": {},
   "outputs": [
    {
     "name": "stdout",
     "output_type": "stream",
     "text": [
      "A\n"
     ]
    }
   ],
   "source": [
    "marks=86\n",
    "if 80<= marks<=100:\n",
    "    print('A')"
   ]
  },
  {
   "cell_type": "code",
   "execution_count": 21,
   "metadata": {},
   "outputs": [
    {
     "name": "stdout",
     "output_type": "stream",
     "text": [
      "A\n"
     ]
    }
   ],
   "source": [
    "marks=86\n",
    "if 80<=marks and marks<=100:\n",
    "    print('A')"
   ]
  },
  {
   "cell_type": "code",
   "execution_count": null,
   "metadata": {},
   "outputs": [],
   "source": []
  }
 ],
 "metadata": {
  "kernelspec": {
   "display_name": "Python 3",
   "language": "python",
   "name": "python3"
  },
  "language_info": {
   "codemirror_mode": {
    "name": "ipython",
    "version": 3
   },
   "file_extension": ".py",
   "mimetype": "text/x-python",
   "name": "python",
   "nbconvert_exporter": "python",
   "pygments_lexer": "ipython3",
   "version": "3.7.6"
  }
 },
 "nbformat": 4,
 "nbformat_minor": 4
}
